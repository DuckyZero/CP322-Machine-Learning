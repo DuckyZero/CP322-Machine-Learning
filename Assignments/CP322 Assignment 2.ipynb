{
 "cells": [
  {
   "cell_type": "markdown",
   "metadata": {},
   "source": [
    "# CP322 Assignment 2 - Winter 2022\n",
    "## Name: Christopher Rossi\n",
    "## Date: 2022-02-11\n"
   ]
  },
  {
   "cell_type": "markdown",
   "metadata": {},
   "source": [
    "### 1 Concept Questions"
   ]
  },
  {
   "cell_type": "markdown",
   "metadata": {},
   "source": [
    "### 1.1 Write an expression for the joint likelihood of the network in it's factored form"
   ]
  },
  {
   "cell_type": "markdown",
   "metadata": {},
   "source": [
    "P(a,b,c,d,e,f,g) = P(a) * P(b|a) * P(c|b) * P(g) * P(f|g) * P(d|c,f) * P(e|d)"
   ]
  },
  {
   "cell_type": "markdown",
   "metadata": {},
   "source": [
    "### 1.2 What is P (K = 1|a = 1, b = 1, c = 0) & P (K = 0|a = 1, b = 1)?"
   ]
  },
  {
   "cell_type": "markdown",
   "metadata": {},
   "source": [
    "P(K=1|a=1,b=1,c=0)\n",
    "\n",
    "= P(K|a,b,!c)\n",
    "\n",
    "= P(K,a,b,!c)/P(a,b,!c)\n",
    "\n",
    "= (P(K)P(a|K)P(b|K)*P(!c|K))/(P(K,a,b,!c)+P(!K,a,b,!c))\n",
    "\n",
    "= ((1/2)((1/2)(1/2) / (1/2))((3/8)(1/2)/(1/2))((3/8)(1/2) / (1/2) / (((1/2)(1/2)(3/8)(3/8)) + ((1/2)(1/2)(3/8)(3/8)))\n",
    "\n",
    "= ((1/2)(1/2)(3/8)(3/8)) / (((1/2)(1/2)(3/8)(3/8)) + ((1/2)(1/2)(3/8) * (3/8)))\n",
    "\n",
    "= 9/256 / 18/256\n",
    "\n",
    "= 9/18\n",
    "\n",
    "= 1/2\n",
    "\n",
    "P(K=0|a=1,b=1)\n",
    "\n",
    "= P(!K|a,b)\n",
    "\n",
    "= P(!K,a,b)/P(a,b)\n",
    "\n",
    "= (P(!K)P(a|!K)P(b|!K))/(P(!K,a,b)+P(K,a,b))\n",
    "\n",
    "= ((1/2)((1/2)(1/2)/(1/2))((3/8)(1/2)/(1/2))/(((1/2)(1/2)(3/8))+((1/2)(1/2)(3/8)))\n",
    "\n",
    "= ((1/2)(1/2)(3/8))/(((1/2)(1/2)(3/8))+((1/2)(1/2)(3/8)))\n",
    "\n",
    "= 3/32 / 6/32\n",
    "\n",
    "= 3/6\n",
    "\n",
    "= 1/2"
   ]
  },
  {
   "cell_type": "markdown",
   "metadata": {},
   "source": [
    "### 2.1 Data Loading and Preprocessing"
   ]
  },
  {
   "cell_type": "code",
   "execution_count": 1,
   "metadata": {},
   "outputs": [
    {
     "name": "stdout",
     "output_type": "stream",
     "text": [
      "There are 61878 instances\n",
      "There are 95 classes\n"
     ]
    }
   ],
   "source": [
    "# Import Dependencies\n",
    "import numpy as np\n",
    "import pandas as pd\n",
    "from sklearn.model_selection import train_test_split\n",
    "from sklearn.neighbors import KNeighborsClassifier\n",
    "from sklearn.ensemble import RandomForestClassifier\n",
    "from sklearn.naive_bayes import GaussianNB\n",
    "from sklearn import metrics\n",
    "from sklearn.metrics import precision_score\n",
    "from sklearn.metrics import recall_score\n",
    "from sklearn.metrics import f1_score\n",
    "from sklearn import preprocessing\n",
    "import seaborn as sns\n",
    "\n",
    "\n",
    "# Otto Classification Challenge dataset hosted by Kaggle 2015\n",
    "df = pd.read_csv(\"otto.csv\", header=0)\n",
    "\n",
    "# exact number of instances and number of classes;\n",
    "row, col = df.shape\n",
    "print(f\"There are {row} instances\")\n",
    "print(f\"There are {col} classes\")"
   ]
  },
  {
   "cell_type": "markdown",
   "metadata": {},
   "source": [
    "### 2.1.2 Handle missing values, remove non-numeric class labels & filtering rows with all zero values"
   ]
  },
  {
   "cell_type": "code",
   "execution_count": 2,
   "metadata": {},
   "outputs": [],
   "source": [
    "# Convert target values into numeric values\n",
    "label = preprocessing.LabelEncoder()\n",
    "df['target'] = label.fit_transform(df['target'])\n",
    "# Removes rows with all zero values\n",
    "df = df.loc[~(df==0).all(axis=1)]"
   ]
  },
  {
   "cell_type": "code",
   "execution_count": 3,
   "metadata": {},
   "outputs": [],
   "source": [
    "# Include all columns except id and target\n",
    "X = df.iloc[:,1:-1]\n",
    "y = df['target']\n",
    "\n",
    "# Split dataset into training set and test set, 80% training and 20% test\n",
    "X_train, X_test, y_train, y_test = train_test_split(X,y,test_size=0.2,random_state=1)"
   ]
  },
  {
   "cell_type": "markdown",
   "metadata": {},
   "source": [
    "### 2.2 Algorithm Implementation"
   ]
  },
  {
   "cell_type": "code",
   "execution_count": 4,
   "metadata": {
    "scrolled": true
   },
   "outputs": [],
   "source": [
    "'''\n",
    "K-Nearest Neighbors Algorithm\n",
    "'''\n",
    "# Create KNN Classifier\n",
    "knn = KNeighborsClassifier(n_neighbors=15)\n",
    "\n",
    "# Train the model using the training sets\n",
    "knn.fit(X_train, y_train)\n",
    "\n",
    "# Predict the response for test dataset\n",
    "y_knn_pred = knn.predict(X_test)\n",
    "\n",
    "'''\n",
    "Random Forest Algorithm\n",
    "'''\n",
    "# Create a RFC Classifier\n",
    "rfc=RandomForestClassifier()\n",
    "\n",
    "# Train the model using the training sets y_pred=clf.predict(X_test)\n",
    "rfc.fit(X_train,y_train)\n",
    "\n",
    "# Predict the response for test dataset\n",
    "y_rfc_pred = rfc.predict(X_test)\n",
    "\n",
    "'''\n",
    "Naive Baye's Algorithm\n",
    "'''\n",
    "# Create a Gaussian Classifier\n",
    "gnb = GaussianNB()\n",
    "\n",
    "# Train the model using the training sets\n",
    "gnb.fit(X_train, y_train)\n",
    "\n",
    "# Predict the response for test dataset\n",
    "y_gnb_pred = gnb.predict(X_test)"
   ]
  },
  {
   "cell_type": "markdown",
   "metadata": {},
   "source": [
    "### 2.3 Performance Comparison"
   ]
  },
  {
   "cell_type": "markdown",
   "metadata": {},
   "source": [
    "### 2.3.1 F1 Measure of KNN, RFC, and GNB Algorithms"
   ]
  },
  {
   "cell_type": "code",
   "execution_count": 5,
   "metadata": {},
   "outputs": [
    {
     "name": "stdout",
     "output_type": "stream",
     "text": [
      "KNN F1-Score:  0.7706851971557854\n",
      "RFC F1-Score:  0.8019553975436329\n",
      "GNB F1-Score:  0.6081932773109243\n"
     ]
    }
   ],
   "source": [
    "print(\"KNN F1-Score: \", f1_score(y_test,y_knn_pred,average='micro'))\n",
    "print(\"RFC F1-Score: \", f1_score(y_test,y_rfc_pred,average='micro'))\n",
    "print(\"GNB F1-Score: \", f1_score(y_test,y_gnb_pred,average='micro'))\n"
   ]
  },
  {
   "cell_type": "markdown",
   "metadata": {},
   "source": [
    "### 2.3.2 Observation and analysis on the results"
   ]
  },
  {
   "cell_type": "markdown",
   "metadata": {},
   "source": [
    "For the otto dataset, we have implemented the K-Nearest Neighbor (KNN), Random Forest (RFC), and Gaussian Naïve Bayes (GNB) Algorithms. From this, we computed a predicted and measured f1 score metric to assess the quality of the models, however, we do need to note that no specific value that is considered a “good” f1 score, which is why we generally pick the classification model that produces the highest f1 score. KNN produced a 0.7706 f1 score, RFC made a 0.8017, and GNB created a 0.6081; based on our results, I believe that the RFC classifier has the potential to be an ideal classifier, as it is has the highest f1 score, however, random forests are made up of decision trees which are not great on imbalanced datasets and major modifications must be made for it to be suitable for imbalanced classifications. An argument can be made for the KNN model as it is the second highest f1 score and noticeable higher than GNB classifier which can also be seen in the heatmap where KNN and RFC has a much stronger correlation than GNB. Thus, given by my optimization and results, the best classifier would be RFC based on the highest f1 score and strongest correlation on the heat map."
   ]
  },
  {
   "cell_type": "markdown",
   "metadata": {},
   "source": [
    "### 2.3.3 Visualization of pair-weise correlation"
   ]
  },
  {
   "cell_type": "code",
   "execution_count": 6,
   "metadata": {
    "scrolled": true
   },
   "outputs": [
    {
     "data": {
      "text/plain": [
       "<AxesSubplot:>"
      ]
     },
     "execution_count": 6,
     "metadata": {},
     "output_type": "execute_result"
    },
    {
     "data": {
      "image/png": "[encoded data removed]",
      "text/plain": [
       "<Figure size 432x288 with 2 Axes>"
      ]
     },
     "metadata": {
      "needs_background": "light"
     },
     "output_type": "display_data"
    }
   ],
   "source": [
    "# Three dataframes for each model\n",
    "KNN = pd.DataFrame(y_knn_pred,columns=[\"KNN\"])\n",
    "RFC = pd.DataFrame(y_rfc_pred,columns=[\"RFC\"])\n",
    "NB = pd.DataFrame(y_gnb_pred,columns=[\"NB\"])\n",
    "\n",
    "# Combine three dataframes into one\n",
    "df2 = pd.concat([KNN, RFC, NB], axis=1, join=\"inner\")\n",
    "\n",
    "# Set column name for graph\n",
    "Cols = ['KNN', 'RFC', 'NB']\n",
    "\n",
    "# Create heat map \n",
    "sns.heatmap(df2.corr(),xticklabels=Cols,yticklabels=Cols,annot=True)\n"
   ]
  }
 ],
 "metadata": {
  "kernelspec": {
   "display_name": "Python 3",
   "language": "python",
   "name": "python3"
  },
  "language_info": {
   "codemirror_mode": {
    "name": "ipython",
    "version": 3
   },
   "file_extension": ".py",
   "mimetype": "text/x-python",
   "name": "python",
   "nbconvert_exporter": "python",
   "pygments_lexer": "ipython3",
   "version": "3.8.5"
  }
 },
 "nbformat": 4,
 "nbformat_minor": 4
}
