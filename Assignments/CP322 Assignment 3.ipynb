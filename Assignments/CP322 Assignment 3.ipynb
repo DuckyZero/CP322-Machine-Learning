{
  "nbformat": 4,
  "nbformat_minor": 0,
  "metadata": {
    "colab": {
      "name": "CP322 Assignment 3.ipynb",
      "provenance": [],
      "collapsed_sections": []
    },
    "kernelspec": {
      "name": "python3",
      "display_name": "Python 3"
    },
    "language_info": {
      "name": "python"
    }
  },
  "cells": [
    {
      "cell_type": "markdown",
      "source": [
        "### Author: Christopher Rossi\n",
        "### Student Number: 190394110\n",
        "### Date: 2022-02-36"
      ],
      "metadata": {
        "id": "211v6u_Jy1RZ"
      }
    },
    {
      "cell_type": "markdown",
      "source": [
        "# 1 Concept Questions:\n",
        "\n",
        "---\n",
        "\n",
        "## 1.1 Neural Nets:\n",
        "\n",
        "1. What is the output P (y = 1|x, w) from the above neural net? Express it in terms of xi, c and weights wi (2 points).\n",
        "\n",
        "= g(z) \n",
        "\n",
        "= $\\frac{1}{1+e^{-z}}$\n",
        "\n",
        "= g($w_{7} + w_{8}h(w_{1} + w_{3}x_{1} + w_{5}x_{2}) + w_{9}h(w_{2} + w_{4}x_{1} + w_{6}x_{2}))$ \n",
        "\n",
        "= $\\frac{1}{1 + exp(−(w_{7} + cw_{8}w_{1} + cw_{9}w_{2} + (cw_{8}w_{3} + cw_{9}w_{4})x_{1} + (cw_{8}w_{5} + cw_{9}w_{6})x_{2}))}$\n",
        "\n",
        "---\n",
        "2. Is it true that any multi-layered neural net with linear activation functions at hidden layers can be represented as a\n",
        "neural net without any hidden layer? Briefly explain your answer (1 point).\n",
        "\n",
        "Yes, any multi-layered neural net with linear activation functions at hidden layers can be represented as a neural net without any hidden layer. Because the output from the hidden units with linear activation functions can be written as linear combinations of input features. Then we simply find an equivalent neural net without any hidden layers since we use these outputs as inputs for the final layer.\n",
        "\n",
        "---"
      ],
      "metadata": {
        "id": "IFOgiS-Tp7si"
      }
    },
    {
      "cell_type": "markdown",
      "source": [
        "## 1.2 Support Vector Machines:\n",
        "1. How large can h ≥0 be so the training examples are still linearly separable (1 point)?\n",
        "\n",
        "###### The largest possible value h will be is 1, this is due to the fact that it will cross into the minimum range blue can have, and in this case since blue is two points, we can determine that this area by finding the linear line that crosses two points. This, by looking at the value of the line at y = 1, we can see that 1 is the limit for h.\n",
        "---\n",
        "\n",
        "2. Will the direction of the maximum margin decision boundary change as a function of h when the samples are separable?\n",
        "Explain your answer with one sentence (1 point).\n",
        "\n",
        "Nope, it will not.\n",
        "\n",
        "---\n",
        "\n",
        "3. What will be the margin obtained by the maximum margin boundary as a function of h? Note that the margin as a function of h is actually a linear function (2 points).\n",
        "\n",
        "The margin ill be obtained by the maximum margin boundary as the function of h is $\\frac{1-h}{\\sqrt{2}}$, and when 0 <= h <= 1 and 0, in addition to when h > 1. Thus, these functions can be found by calculating the margin when h = 0, which is $\\frac{1}{\\sqrt{2}}$ and h = 1 (that is 0)\n",
        "\n",
        "---\n"
      ],
      "metadata": {
        "id": "FeSpki6knRox"
      }
    },
    {
      "cell_type": "code",
      "execution_count": null,
      "metadata": {
        "colab": {
          "base_uri": "https://localhost:8080/"
        },
        "id": "wsszqNSVTYO4",
        "outputId": "bb90f054-d36d-40c5-d08e-e965db5fa1a0"
      },
      "outputs": [
        {
          "output_type": "stream",
          "name": "stdout",
          "text": [
            "Requirement already satisfied: tensorflow in /usr/local/lib/python3.7/dist-packages (2.8.0)\n",
            "Requirement already satisfied: tensorboard<2.9,>=2.8 in /usr/local/lib/python3.7/dist-packages (from tensorflow) (2.8.0)\n",
            "Requirement already satisfied: astunparse>=1.6.0 in /usr/local/lib/python3.7/dist-packages (from tensorflow) (1.6.3)\n",
            "Requirement already satisfied: typing-extensions>=3.6.6 in /usr/local/lib/python3.7/dist-packages (from tensorflow) (3.10.0.2)\n",
            "Requirement already satisfied: grpcio<2.0,>=1.24.3 in /usr/local/lib/python3.7/dist-packages (from tensorflow) (1.44.0)\n",
            "Requirement already satisfied: keras-preprocessing>=1.1.1 in /usr/local/lib/python3.7/dist-packages (from tensorflow) (1.1.2)\n",
            "Requirement already satisfied: gast>=0.2.1 in /usr/local/lib/python3.7/dist-packages (from tensorflow) (0.5.3)\n",
            "Requirement already satisfied: absl-py>=0.4.0 in /usr/local/lib/python3.7/dist-packages (from tensorflow) (1.0.0)\n",
            "Requirement already satisfied: wrapt>=1.11.0 in /usr/local/lib/python3.7/dist-packages (from tensorflow) (1.14.0)\n",
            "Requirement already satisfied: setuptools in /usr/local/lib/python3.7/dist-packages (from tensorflow) (57.4.0)\n",
            "Requirement already satisfied: numpy>=1.20 in /usr/local/lib/python3.7/dist-packages (from tensorflow) (1.21.5)\n",
            "Requirement already satisfied: libclang>=9.0.1 in /usr/local/lib/python3.7/dist-packages (from tensorflow) (13.0.0)\n",
            "Requirement already satisfied: six>=1.12.0 in /usr/local/lib/python3.7/dist-packages (from tensorflow) (1.15.0)\n",
            "Requirement already satisfied: h5py>=2.9.0 in /usr/local/lib/python3.7/dist-packages (from tensorflow) (3.1.0)\n",
            "Requirement already satisfied: protobuf>=3.9.2 in /usr/local/lib/python3.7/dist-packages (from tensorflow) (3.17.3)\n",
            "Requirement already satisfied: keras<2.9,>=2.8.0rc0 in /usr/local/lib/python3.7/dist-packages (from tensorflow) (2.8.0)\n",
            "Requirement already satisfied: opt-einsum>=2.3.2 in /usr/local/lib/python3.7/dist-packages (from tensorflow) (3.3.0)\n",
            "Requirement already satisfied: tensorflow-io-gcs-filesystem>=0.23.1 in /usr/local/lib/python3.7/dist-packages (from tensorflow) (0.24.0)\n",
            "Requirement already satisfied: google-pasta>=0.1.1 in /usr/local/lib/python3.7/dist-packages (from tensorflow) (0.2.0)\n",
            "Requirement already satisfied: termcolor>=1.1.0 in /usr/local/lib/python3.7/dist-packages (from tensorflow) (1.1.0)\n",
            "Collecting tf-estimator-nightly==2.8.0.dev2021122109\n",
            "  Downloading tf_estimator_nightly-2.8.0.dev2021122109-py2.py3-none-any.whl (462 kB)\n",
            "\u001b[K     |████████████████████████████████| 462 kB 26.6 MB/s \n",
            "\u001b[?25hRequirement already satisfied: flatbuffers>=1.12 in /usr/local/lib/python3.7/dist-packages (from tensorflow) (2.0)\n",
            "Requirement already satisfied: wheel<1.0,>=0.23.0 in /usr/local/lib/python3.7/dist-packages (from astunparse>=1.6.0->tensorflow) (0.37.1)\n",
            "Requirement already satisfied: cached-property in /usr/local/lib/python3.7/dist-packages (from h5py>=2.9.0->tensorflow) (1.5.2)\n",
            "Requirement already satisfied: werkzeug>=0.11.15 in /usr/local/lib/python3.7/dist-packages (from tensorboard<2.9,>=2.8->tensorflow) (1.0.1)\n",
            "Requirement already satisfied: markdown>=2.6.8 in /usr/local/lib/python3.7/dist-packages (from tensorboard<2.9,>=2.8->tensorflow) (3.3.6)\n",
            "Requirement already satisfied: tensorboard-plugin-wit>=1.6.0 in /usr/local/lib/python3.7/dist-packages (from tensorboard<2.9,>=2.8->tensorflow) (1.8.1)\n",
            "Requirement already satisfied: tensorboard-data-server<0.7.0,>=0.6.0 in /usr/local/lib/python3.7/dist-packages (from tensorboard<2.9,>=2.8->tensorflow) (0.6.1)\n",
            "Requirement already satisfied: google-auth-oauthlib<0.5,>=0.4.1 in /usr/local/lib/python3.7/dist-packages (from tensorboard<2.9,>=2.8->tensorflow) (0.4.6)\n",
            "Requirement already satisfied: google-auth<3,>=1.6.3 in /usr/local/lib/python3.7/dist-packages (from tensorboard<2.9,>=2.8->tensorflow) (1.35.0)\n",
            "Requirement already satisfied: requests<3,>=2.21.0 in /usr/local/lib/python3.7/dist-packages (from tensorboard<2.9,>=2.8->tensorflow) (2.23.0)\n",
            "Requirement already satisfied: cachetools<5.0,>=2.0.0 in /usr/local/lib/python3.7/dist-packages (from google-auth<3,>=1.6.3->tensorboard<2.9,>=2.8->tensorflow) (4.2.4)\n",
            "Requirement already satisfied: rsa<5,>=3.1.4 in /usr/local/lib/python3.7/dist-packages (from google-auth<3,>=1.6.3->tensorboard<2.9,>=2.8->tensorflow) (4.8)\n",
            "Requirement already satisfied: pyasn1-modules>=0.2.1 in /usr/local/lib/python3.7/dist-packages (from google-auth<3,>=1.6.3->tensorboard<2.9,>=2.8->tensorflow) (0.2.8)\n",
            "Requirement already satisfied: requests-oauthlib>=0.7.0 in /usr/local/lib/python3.7/dist-packages (from google-auth-oauthlib<0.5,>=0.4.1->tensorboard<2.9,>=2.8->tensorflow) (1.3.1)\n",
            "Requirement already satisfied: importlib-metadata>=4.4 in /usr/local/lib/python3.7/dist-packages (from markdown>=2.6.8->tensorboard<2.9,>=2.8->tensorflow) (4.11.3)\n",
            "Requirement already satisfied: zipp>=0.5 in /usr/local/lib/python3.7/dist-packages (from importlib-metadata>=4.4->markdown>=2.6.8->tensorboard<2.9,>=2.8->tensorflow) (3.7.0)\n",
            "Requirement already satisfied: pyasn1<0.5.0,>=0.4.6 in /usr/local/lib/python3.7/dist-packages (from pyasn1-modules>=0.2.1->google-auth<3,>=1.6.3->tensorboard<2.9,>=2.8->tensorflow) (0.4.8)\n",
            "Requirement already satisfied: urllib3!=1.25.0,!=1.25.1,<1.26,>=1.21.1 in /usr/local/lib/python3.7/dist-packages (from requests<3,>=2.21.0->tensorboard<2.9,>=2.8->tensorflow) (1.24.3)\n",
            "Requirement already satisfied: chardet<4,>=3.0.2 in /usr/local/lib/python3.7/dist-packages (from requests<3,>=2.21.0->tensorboard<2.9,>=2.8->tensorflow) (3.0.4)\n",
            "Requirement already satisfied: idna<3,>=2.5 in /usr/local/lib/python3.7/dist-packages (from requests<3,>=2.21.0->tensorboard<2.9,>=2.8->tensorflow) (2.10)\n",
            "Requirement already satisfied: certifi>=2017.4.17 in /usr/local/lib/python3.7/dist-packages (from requests<3,>=2.21.0->tensorboard<2.9,>=2.8->tensorflow) (2021.10.8)\n",
            "Requirement already satisfied: oauthlib>=3.0.0 in /usr/local/lib/python3.7/dist-packages (from requests-oauthlib>=0.7.0->google-auth-oauthlib<0.5,>=0.4.1->tensorboard<2.9,>=2.8->tensorflow) (3.2.0)\n",
            "Installing collected packages: tf-estimator-nightly\n",
            "Successfully installed tf-estimator-nightly-2.8.0.dev2021122109\n",
            "Requirement already satisfied: keras in /usr/local/lib/python3.7/dist-packages (2.8.0)\n"
          ]
        }
      ],
      "source": [
        "!pip install tensorflow\n",
        "!pip install keras"
      ]
    },
    {
      "cell_type": "code",
      "source": [
        "from gc import callbacks\n",
        "from tensorflow.keras.preprocessing.image import ImageDataGenerator\n",
        "from tensorflow.keras import layers, models\n",
        "from tensorflow.keras.callbacks import EarlyStopping\n",
        "import tensorflow as tf\n",
        "import matplotlib.pyplot as plt\n",
        "import numpy as np\n",
        "import pandas as pd\n",
        "\n",
        "\n",
        "datagen = ImageDataGenerator(\n",
        "    zoom_range=0.2,          # Zooming rate of the image\n",
        "    horizontal_flip=True,    # Make a horizontal copy\n",
        "    rescale=1./255.0,        # Normalize the new images\n",
        "    width_shift_range=0.10,  # Percentage of width shifting\n",
        "    height_shift_range=0.10, # Percentage of height shifting\n",
        ")\n",
        "\n",
        "train_datagen = datagen.flow_from_directory('/content/drive/MyDrive/xray_dataset_covid19/train')\n",
        "test_datagen = datagen.flow_from_directory('/content/drive/MyDrive/xray_dataset_covid19/test')\n",
        "\n",
        "train_generator = datagen.flow_from_directory(\n",
        "    '/content/drive/MyDrive/xray_dataset_covid19/train',\n",
        "    target_size=(64,64),\n",
        "    batch_size=32,\n",
        "    class_mode='binary')\n",
        "\n",
        "validation_generator = datagen.flow_from_directory(\n",
        "        '/content/drive/MyDrive/xray_dataset_covid19/test',\n",
        "        target_size=(64, 64),\n",
        "        batch_size=32,\n",
        "        class_mode='binary')\n",
        "\n",
        "model = models.Sequential()\n",
        "model.add(layers.Conv2D(32, (3, 3), activation='relu', input_shape=(64, 64, 3)))\n",
        "model.add(layers.MaxPooling2D((2, 2)))\n",
        "model.add(layers.Conv2D(64, (3, 3), activation='relu'))\n",
        "model.add(layers.MaxPooling2D((2, 2)))\n",
        "model.add(layers.Conv2D(64, (3, 3), activation='relu'))\n",
        "model.add(layers.Flatten())\n",
        "model.add(layers.Dense(64, activation='relu'))\n",
        "model.add(layers.Dense(1))\n",
        "\n",
        "#model.summary()\n",
        "\n",
        "\n",
        "#model.summary()\n",
        "\n",
        "# model.compile(optimizer='adam',\n",
        "#               loss=tf.keras.losses.BinaryCrossentropy(from_logits=False),\n",
        "#               metrics=['accuracy'])\n",
        "\n",
        "callback = EarlyStopping(patience=6)\n",
        "\n",
        "model.compile(optimizer='Adam',\n",
        "              loss=tf.keras.losses.BinaryCrossentropy(from_logits=True),\n",
        "              metrics=['accuracy'])\n",
        "\n",
        "history = model.fit(\n",
        "    train_generator,\n",
        "    epochs=20,\n",
        "    validation_data=validation_generator,\n",
        "    callbacks=[callback]\n",
        "    )"
      ],
      "metadata": {
        "colab": {
          "base_uri": "https://localhost:8080/"
        },
        "id": "bPxbecWvVnw3",
        "outputId": "8e4db0d0-9c6a-4c18-cb2c-94afec5a7405"
      },
      "execution_count": null,
      "outputs": [
        {
          "output_type": "stream",
          "name": "stdout",
          "text": [
            "Found 148 images belonging to 2 classes.\n",
            "Found 40 images belonging to 2 classes.\n",
            "Found 148 images belonging to 2 classes.\n",
            "Found 40 images belonging to 2 classes.\n",
            "Epoch 1/20\n",
            "5/5 [==============================] - 9s 2s/step - loss: 0.7352 - accuracy: 0.4730 - val_loss: 0.6879 - val_accuracy: 0.5000\n",
            "Epoch 2/20\n",
            "5/5 [==============================] - 7s 2s/step - loss: 0.6867 - accuracy: 0.5000 - val_loss: 0.6767 - val_accuracy: 0.5000\n",
            "Epoch 3/20\n",
            "5/5 [==============================] - 7s 1s/step - loss: 0.6710 - accuracy: 0.5000 - val_loss: 0.6389 - val_accuracy: 0.5000\n",
            "Epoch 4/20\n",
            "5/5 [==============================] - 7s 1s/step - loss: 0.6405 - accuracy: 0.5000 - val_loss: 0.5619 - val_accuracy: 0.5750\n",
            "Epoch 5/20\n",
            "5/5 [==============================] - 7s 1s/step - loss: 0.5760 - accuracy: 0.6622 - val_loss: 0.4651 - val_accuracy: 0.6500\n",
            "Epoch 6/20\n",
            "5/5 [==============================] - 7s 1s/step - loss: 0.5130 - accuracy: 0.7365 - val_loss: 0.4013 - val_accuracy: 0.5750\n",
            "Epoch 7/20\n",
            "5/5 [==============================] - 7s 1s/step - loss: 0.4536 - accuracy: 0.7635 - val_loss: 0.1935 - val_accuracy: 0.9500\n",
            "Epoch 8/20\n",
            "5/5 [==============================] - 7s 1s/step - loss: 0.3153 - accuracy: 0.8581 - val_loss: 0.2138 - val_accuracy: 0.9500\n",
            "Epoch 9/20\n",
            "5/5 [==============================] - 7s 1s/step - loss: 0.3016 - accuracy: 0.8514 - val_loss: 0.2853 - val_accuracy: 0.8500\n",
            "Epoch 10/20\n",
            "5/5 [==============================] - 7s 1s/step - loss: 0.2836 - accuracy: 0.8716 - val_loss: 0.1720 - val_accuracy: 0.8750\n",
            "Epoch 11/20\n",
            "5/5 [==============================] - 7s 1s/step - loss: 0.4130 - accuracy: 0.8176 - val_loss: 0.2431 - val_accuracy: 0.9250\n",
            "Epoch 12/20\n",
            "5/5 [==============================] - 7s 1s/step - loss: 0.3302 - accuracy: 0.8581 - val_loss: 0.2139 - val_accuracy: 0.8500\n",
            "Epoch 13/20\n",
            "5/5 [==============================] - 7s 1s/step - loss: 0.2858 - accuracy: 0.8649 - val_loss: 0.2108 - val_accuracy: 0.9000\n",
            "Epoch 14/20\n",
            "5/5 [==============================] - 7s 1s/step - loss: 0.2710 - accuracy: 0.8716 - val_loss: 0.1189 - val_accuracy: 0.9500\n",
            "Epoch 15/20\n",
            "5/5 [==============================] - 7s 1s/step - loss: 0.2784 - accuracy: 0.8649 - val_loss: 0.1473 - val_accuracy: 0.9250\n",
            "Epoch 16/20\n",
            "5/5 [==============================] - 7s 2s/step - loss: 0.2644 - accuracy: 0.8919 - val_loss: 0.1588 - val_accuracy: 0.9250\n",
            "Epoch 17/20\n",
            "5/5 [==============================] - 7s 2s/step - loss: 0.2694 - accuracy: 0.8649 - val_loss: 0.1794 - val_accuracy: 0.9000\n",
            "Epoch 18/20\n",
            "5/5 [==============================] - 7s 1s/step - loss: 0.2407 - accuracy: 0.8851 - val_loss: 0.1565 - val_accuracy: 0.9000\n",
            "Epoch 19/20\n",
            "5/5 [==============================] - 7s 1s/step - loss: 0.2098 - accuracy: 0.9054 - val_loss: 0.2227 - val_accuracy: 0.9250\n",
            "Epoch 20/20\n",
            "5/5 [==============================] - 7s 2s/step - loss: 0.2506 - accuracy: 0.8919 - val_loss: 0.1117 - val_accuracy: 0.9750\n"
          ]
        }
      ]
    },
    {
      "cell_type": "code",
      "source": [
        "plt.plot(history.history['accuracy'])\n",
        "plt.plot(history.history['val_accuracy'])\n",
        "plt.title('model accuracy')\n",
        "plt.ylabel('accuracy')\n",
        "plt.xlabel('epoch')\n",
        "plt.legend(['train', 'test'], loc='upper left')\n",
        "plt.grid(True)\n",
        "plt.show()\n",
        "# summarize history for loss\n",
        "plt.plot(history.history['loss'])\n",
        "plt.plot(history.history['val_loss'])\n",
        "plt.title('model loss')\n",
        "plt.ylabel('loss')\n",
        "plt.xlabel('epoch')\n",
        "plt.legend(['train', 'test'], loc='upper right')\n",
        "plt.grid(True)\n",
        "plt.show()"
      ],
      "metadata": {
        "colab": {
          "base_uri": "https://localhost:8080/",
          "height": 573
        },
        "id": "dFxI9qFMznOC",
        "outputId": "1221ecda-6549-4b72-b949-e7f876123273"
      },
      "execution_count": null,
      "outputs": [
        {
          "output_type": "display_data",
          "data": {
            "text/plain": [
              "<Figure size 432x288 with 1 Axes>"
            ],
            "image/png": "[encoded data removed]"
          },
          "metadata": {
            "needs_background": "light"
          }
        },
        {
          "output_type": "display_data",
          "data": {
            "text/plain": [
              "<Figure size 432x288 with 1 Axes>"
            ],
            "image/png": "[encoded data removed]"
          },
          "metadata": {
            "needs_background": "light"
          }
        }
      ]
    },
    {
      "cell_type": "markdown",
      "source": [
        "When we look at the results of our experiment, we can see that overfitting does not occur and that our accuracy follows a positive expoential movement. The meaning of the accuracy score matches the expected values. In addition, the loss graph shows a negative trend, meaing that our model is close to the real values. The training and testing data are closely related and each data value is not influencing the overall model, and as such, you would see that the model will circum to overfitting. Therefore, since our model shows a positive movement in terms of accuracy, negative trend for the loss values, and the training/testing data are closely intertwined to each other meaning that the model will have limited overfitting potential. "
      ],
      "metadata": {
        "id": "RMlCH-keurRU"
      }
    }
  ]
}