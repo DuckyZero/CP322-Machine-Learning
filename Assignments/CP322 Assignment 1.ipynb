{
 "cells": [
  {
   "cell_type": "markdown",
   "metadata": {},
   "source": [
    "# Assignment 1"
   ]
  },
  {
   "cell_type": "markdown",
   "metadata": {},
   "source": [
    "### 0.0 Import Dependencies"
   ]
  },
  {
   "cell_type": "code",
   "execution_count": 1,
   "metadata": {
    "scrolled": true
   },
   "outputs": [],
   "source": [
    "import matplotlib as mpl\n",
    "import matplotlib.pyplot as plt\n",
    "import numpy as np\n",
    "import pandas as pd\n",
    "from pandas import get_dummies\n",
    "from sklearn.tree import DecisionTreeClassifier\n",
    "from sklearn.ensemble import RandomForestClassifier\n",
    "from sklearn.model_selection import train_test_split\n",
    "from sklearn.model_selection import cross_val_score\n",
    "from sklearn import metrics\n",
    "from sklearn.metrics import precision_score\n",
    "from sklearn.metrics import recall_score\n",
    "from sklearn.metrics import f1_score"
   ]
  },
  {
   "cell_type": "markdown",
   "metadata": {},
   "source": [
    "### 1.1 Know Your Data"
   ]
  },
  {
   "cell_type": "code",
   "execution_count": 2,
   "metadata": {},
   "outputs": [
    {
     "data": {
      "text/html": [
       "<div>\n",
       "<style scoped>\n",
       "    .dataframe tbody tr th:only-of-type {\n",
       "        vertical-align: middle;\n",
       "    }\n",
       "\n",
       "    .dataframe tbody tr th {\n",
       "        vertical-align: top;\n",
       "    }\n",
       "\n",
       "    .dataframe thead th {\n",
       "        text-align: right;\n",
       "    }\n",
       "</style>\n",
       "<table border=\"1\" class=\"dataframe\">\n",
       "  <thead>\n",
       "    <tr style=\"text-align: right;\">\n",
       "      <th></th>\n",
       "      <th>credit.policy</th>\n",
       "      <th>purpose</th>\n",
       "      <th>int.rate</th>\n",
       "      <th>installment</th>\n",
       "      <th>log.annual.inc</th>\n",
       "      <th>dti</th>\n",
       "      <th>fico</th>\n",
       "      <th>days.with.cr.line</th>\n",
       "      <th>revol.bal</th>\n",
       "      <th>revol.util</th>\n",
       "      <th>inq.last.6mths</th>\n",
       "      <th>delinq.2yrs</th>\n",
       "      <th>pub.rec</th>\n",
       "      <th>not.fully.paid</th>\n",
       "    </tr>\n",
       "  </thead>\n",
       "  <tbody>\n",
       "    <tr>\n",
       "      <th>0</th>\n",
       "      <td>1</td>\n",
       "      <td>debt_consolidation</td>\n",
       "      <td>0.1189</td>\n",
       "      <td>829.10</td>\n",
       "      <td>11.350407</td>\n",
       "      <td>19.48</td>\n",
       "      <td>737</td>\n",
       "      <td>5639.958333</td>\n",
       "      <td>28854</td>\n",
       "      <td>52.1</td>\n",
       "      <td>0</td>\n",
       "      <td>0</td>\n",
       "      <td>0</td>\n",
       "      <td>0</td>\n",
       "    </tr>\n",
       "    <tr>\n",
       "      <th>1</th>\n",
       "      <td>1</td>\n",
       "      <td>credit_card</td>\n",
       "      <td>0.1071</td>\n",
       "      <td>228.22</td>\n",
       "      <td>11.082143</td>\n",
       "      <td>14.29</td>\n",
       "      <td>707</td>\n",
       "      <td>2760.000000</td>\n",
       "      <td>33623</td>\n",
       "      <td>76.7</td>\n",
       "      <td>0</td>\n",
       "      <td>0</td>\n",
       "      <td>0</td>\n",
       "      <td>0</td>\n",
       "    </tr>\n",
       "    <tr>\n",
       "      <th>2</th>\n",
       "      <td>1</td>\n",
       "      <td>debt_consolidation</td>\n",
       "      <td>0.1357</td>\n",
       "      <td>366.86</td>\n",
       "      <td>10.373491</td>\n",
       "      <td>11.63</td>\n",
       "      <td>682</td>\n",
       "      <td>4710.000000</td>\n",
       "      <td>3511</td>\n",
       "      <td>25.6</td>\n",
       "      <td>1</td>\n",
       "      <td>0</td>\n",
       "      <td>0</td>\n",
       "      <td>0</td>\n",
       "    </tr>\n",
       "    <tr>\n",
       "      <th>3</th>\n",
       "      <td>1</td>\n",
       "      <td>debt_consolidation</td>\n",
       "      <td>0.1008</td>\n",
       "      <td>162.34</td>\n",
       "      <td>11.350407</td>\n",
       "      <td>8.10</td>\n",
       "      <td>712</td>\n",
       "      <td>2699.958333</td>\n",
       "      <td>33667</td>\n",
       "      <td>73.2</td>\n",
       "      <td>1</td>\n",
       "      <td>0</td>\n",
       "      <td>0</td>\n",
       "      <td>0</td>\n",
       "    </tr>\n",
       "    <tr>\n",
       "      <th>4</th>\n",
       "      <td>1</td>\n",
       "      <td>credit_card</td>\n",
       "      <td>0.1426</td>\n",
       "      <td>102.92</td>\n",
       "      <td>11.299732</td>\n",
       "      <td>14.97</td>\n",
       "      <td>667</td>\n",
       "      <td>4066.000000</td>\n",
       "      <td>4740</td>\n",
       "      <td>39.5</td>\n",
       "      <td>0</td>\n",
       "      <td>1</td>\n",
       "      <td>0</td>\n",
       "      <td>0</td>\n",
       "    </tr>\n",
       "  </tbody>\n",
       "</table>\n",
       "</div>"
      ],
      "text/plain": [
       "   credit.policy             purpose  int.rate  installment  log.annual.inc  \\\n",
       "0              1  debt_consolidation    0.1189       829.10       11.350407   \n",
       "1              1         credit_card    0.1071       228.22       11.082143   \n",
       "2              1  debt_consolidation    0.1357       366.86       10.373491   \n",
       "3              1  debt_consolidation    0.1008       162.34       11.350407   \n",
       "4              1         credit_card    0.1426       102.92       11.299732   \n",
       "\n",
       "     dti  fico  days.with.cr.line  revol.bal  revol.util  inq.last.6mths  \\\n",
       "0  19.48   737        5639.958333      28854        52.1               0   \n",
       "1  14.29   707        2760.000000      33623        76.7               0   \n",
       "2  11.63   682        4710.000000       3511        25.6               1   \n",
       "3   8.10   712        2699.958333      33667        73.2               1   \n",
       "4  14.97   667        4066.000000       4740        39.5               0   \n",
       "\n",
       "   delinq.2yrs  pub.rec  not.fully.paid  \n",
       "0            0        0               0  \n",
       "1            0        0               0  \n",
       "2            0        0               0  \n",
       "3            0        0               0  \n",
       "4            1        0               0  "
      ]
     },
     "execution_count": 2,
     "metadata": {},
     "output_type": "execute_result"
    }
   ],
   "source": [
    "data = pd.read_csv(\"loan_data.csv\", header=0)\n",
    "data.head(5)"
   ]
  },
  {
   "cell_type": "code",
   "execution_count": 3,
   "metadata": {},
   "outputs": [
    {
     "data": {
      "text/html": [
       "<div>\n",
       "<style scoped>\n",
       "    .dataframe tbody tr th:only-of-type {\n",
       "        vertical-align: middle;\n",
       "    }\n",
       "\n",
       "    .dataframe tbody tr th {\n",
       "        vertical-align: top;\n",
       "    }\n",
       "\n",
       "    .dataframe thead th {\n",
       "        text-align: right;\n",
       "    }\n",
       "</style>\n",
       "<table border=\"1\" class=\"dataframe\">\n",
       "  <thead>\n",
       "    <tr style=\"text-align: right;\">\n",
       "      <th></th>\n",
       "      <th>credit.policy</th>\n",
       "      <th>int.rate</th>\n",
       "      <th>installment</th>\n",
       "      <th>log.annual.inc</th>\n",
       "      <th>dti</th>\n",
       "      <th>fico</th>\n",
       "      <th>days.with.cr.line</th>\n",
       "      <th>revol.bal</th>\n",
       "      <th>revol.util</th>\n",
       "      <th>inq.last.6mths</th>\n",
       "      <th>delinq.2yrs</th>\n",
       "      <th>pub.rec</th>\n",
       "      <th>not.fully.paid</th>\n",
       "    </tr>\n",
       "  </thead>\n",
       "  <tbody>\n",
       "    <tr>\n",
       "      <th>count</th>\n",
       "      <td>9577.000000</td>\n",
       "      <td>9577.000000</td>\n",
       "      <td>9577.000000</td>\n",
       "      <td>9577.000000</td>\n",
       "      <td>9577.000000</td>\n",
       "      <td>9577.000000</td>\n",
       "      <td>9577.000000</td>\n",
       "      <td>9.577000e+03</td>\n",
       "      <td>9577.000000</td>\n",
       "      <td>9577.000000</td>\n",
       "      <td>9577.000000</td>\n",
       "      <td>9577.000000</td>\n",
       "      <td>9577.000000</td>\n",
       "    </tr>\n",
       "    <tr>\n",
       "      <th>mean</th>\n",
       "      <td>0.805054</td>\n",
       "      <td>0.122638</td>\n",
       "      <td>319.033619</td>\n",
       "      <td>10.932082</td>\n",
       "      <td>12.606295</td>\n",
       "      <td>710.844106</td>\n",
       "      <td>4560.748482</td>\n",
       "      <td>1.691177e+04</td>\n",
       "      <td>46.798171</td>\n",
       "      <td>1.577007</td>\n",
       "      <td>0.163726</td>\n",
       "      <td>0.062128</td>\n",
       "      <td>0.159967</td>\n",
       "    </tr>\n",
       "    <tr>\n",
       "      <th>std</th>\n",
       "      <td>0.396180</td>\n",
       "      <td>0.026848</td>\n",
       "      <td>207.010102</td>\n",
       "      <td>0.614835</td>\n",
       "      <td>6.884227</td>\n",
       "      <td>37.971904</td>\n",
       "      <td>2497.060076</td>\n",
       "      <td>3.375727e+04</td>\n",
       "      <td>29.015745</td>\n",
       "      <td>2.199896</td>\n",
       "      <td>0.546241</td>\n",
       "      <td>0.262139</td>\n",
       "      <td>0.366594</td>\n",
       "    </tr>\n",
       "    <tr>\n",
       "      <th>min</th>\n",
       "      <td>0.000000</td>\n",
       "      <td>0.060000</td>\n",
       "      <td>15.670000</td>\n",
       "      <td>7.547502</td>\n",
       "      <td>0.000000</td>\n",
       "      <td>612.000000</td>\n",
       "      <td>178.958333</td>\n",
       "      <td>0.000000e+00</td>\n",
       "      <td>0.000000</td>\n",
       "      <td>0.000000</td>\n",
       "      <td>0.000000</td>\n",
       "      <td>0.000000</td>\n",
       "      <td>0.000000</td>\n",
       "    </tr>\n",
       "    <tr>\n",
       "      <th>25%</th>\n",
       "      <td>1.000000</td>\n",
       "      <td>0.103900</td>\n",
       "      <td>163.770000</td>\n",
       "      <td>10.558414</td>\n",
       "      <td>7.210000</td>\n",
       "      <td>682.000000</td>\n",
       "      <td>2820.000000</td>\n",
       "      <td>3.187000e+03</td>\n",
       "      <td>22.600000</td>\n",
       "      <td>0.000000</td>\n",
       "      <td>0.000000</td>\n",
       "      <td>0.000000</td>\n",
       "      <td>0.000000</td>\n",
       "    </tr>\n",
       "    <tr>\n",
       "      <th>50%</th>\n",
       "      <td>1.000000</td>\n",
       "      <td>0.122100</td>\n",
       "      <td>268.950000</td>\n",
       "      <td>10.928238</td>\n",
       "      <td>12.660000</td>\n",
       "      <td>707.000000</td>\n",
       "      <td>4139.958333</td>\n",
       "      <td>8.596000e+03</td>\n",
       "      <td>46.300000</td>\n",
       "      <td>1.000000</td>\n",
       "      <td>0.000000</td>\n",
       "      <td>0.000000</td>\n",
       "      <td>0.000000</td>\n",
       "    </tr>\n",
       "    <tr>\n",
       "      <th>75%</th>\n",
       "      <td>1.000000</td>\n",
       "      <td>0.140700</td>\n",
       "      <td>432.350000</td>\n",
       "      <td>11.291780</td>\n",
       "      <td>17.950000</td>\n",
       "      <td>737.000000</td>\n",
       "      <td>5730.000000</td>\n",
       "      <td>1.824200e+04</td>\n",
       "      <td>70.900000</td>\n",
       "      <td>2.000000</td>\n",
       "      <td>0.000000</td>\n",
       "      <td>0.000000</td>\n",
       "      <td>0.000000</td>\n",
       "    </tr>\n",
       "    <tr>\n",
       "      <th>max</th>\n",
       "      <td>1.000000</td>\n",
       "      <td>0.216400</td>\n",
       "      <td>940.140000</td>\n",
       "      <td>14.528354</td>\n",
       "      <td>29.960000</td>\n",
       "      <td>827.000000</td>\n",
       "      <td>17639.958330</td>\n",
       "      <td>1.207359e+06</td>\n",
       "      <td>119.000000</td>\n",
       "      <td>33.000000</td>\n",
       "      <td>13.000000</td>\n",
       "      <td>5.000000</td>\n",
       "      <td>1.000000</td>\n",
       "    </tr>\n",
       "  </tbody>\n",
       "</table>\n",
       "</div>"
      ],
      "text/plain": [
       "       credit.policy     int.rate  installment  log.annual.inc          dti  \\\n",
       "count    9577.000000  9577.000000  9577.000000     9577.000000  9577.000000   \n",
       "mean        0.805054     0.122638   319.033619       10.932082    12.606295   \n",
       "std         0.396180     0.026848   207.010102        0.614835     6.884227   \n",
       "min         0.000000     0.060000    15.670000        7.547502     0.000000   \n",
       "25%         1.000000     0.103900   163.770000       10.558414     7.210000   \n",
       "50%         1.000000     0.122100   268.950000       10.928238    12.660000   \n",
       "75%         1.000000     0.140700   432.350000       11.291780    17.950000   \n",
       "max         1.000000     0.216400   940.140000       14.528354    29.960000   \n",
       "\n",
       "              fico  days.with.cr.line     revol.bal   revol.util  \\\n",
       "count  9577.000000        9577.000000  9.577000e+03  9577.000000   \n",
       "mean    710.844106        4560.748482  1.691177e+04    46.798171   \n",
       "std      37.971904        2497.060076  3.375727e+04    29.015745   \n",
       "min     612.000000         178.958333  0.000000e+00     0.000000   \n",
       "25%     682.000000        2820.000000  3.187000e+03    22.600000   \n",
       "50%     707.000000        4139.958333  8.596000e+03    46.300000   \n",
       "75%     737.000000        5730.000000  1.824200e+04    70.900000   \n",
       "max     827.000000       17639.958330  1.207359e+06   119.000000   \n",
       "\n",
       "       inq.last.6mths  delinq.2yrs      pub.rec  not.fully.paid  \n",
       "count     9577.000000  9577.000000  9577.000000     9577.000000  \n",
       "mean         1.577007     0.163726     0.062128        0.159967  \n",
       "std          2.199896     0.546241     0.262139        0.366594  \n",
       "min          0.000000     0.000000     0.000000        0.000000  \n",
       "25%          0.000000     0.000000     0.000000        0.000000  \n",
       "50%          1.000000     0.000000     0.000000        0.000000  \n",
       "75%          2.000000     0.000000     0.000000        0.000000  \n",
       "max         33.000000    13.000000     5.000000        1.000000  "
      ]
     },
     "execution_count": 3,
     "metadata": {},
     "output_type": "execute_result"
    }
   ],
   "source": [
    "# condensed version of the commented code below\n",
    "data.describe() \n",
    "#data.count()\n",
    "#data.mean()\n",
    "#data.std()\n",
    "#data.min()\n",
    "#data.max()\n",
    "#data.quantile(0.25)\n",
    "#data.quantile(0.50)\n",
    "#data.quantile(0.75)"
   ]
  },
  {
   "cell_type": "code",
   "execution_count": 4,
   "metadata": {},
   "outputs": [
    {
     "data": {
      "text/plain": [
       "credit.policy                                                     7710\n",
       "purpose              debt_consolidationcredit_carddebt_consolidatio...\n",
       "int.rate                                                       1174.51\n",
       "installment                                                3.05538e+06\n",
       "log.annual.inc                                                  104697\n",
       "dti                                                             120730\n",
       "fico                                                           6807754\n",
       "days.with.cr.line                                          4.36783e+07\n",
       "revol.bal                                                    161964067\n",
       "revol.util                                                      448186\n",
       "inq.last.6mths                                                   15103\n",
       "delinq.2yrs                                                       1568\n",
       "pub.rec                                                            595\n",
       "not.fully.paid                                                    1532\n",
       "dtype: object"
      ]
     },
     "execution_count": 4,
     "metadata": {},
     "output_type": "execute_result"
    }
   ],
   "source": [
    "# Sum all data within the dataframe to see the credit policy breakdown\n",
    "data.sum()"
   ]
  },
  {
   "cell_type": "code",
   "execution_count": 5,
   "metadata": {},
   "outputs": [
    {
     "name": "stdout",
     "output_type": "stream",
     "text": [
      "1    7710\n",
      "0    1867\n",
      "Name: credit.policy, dtype: int64\n"
     ]
    }
   ],
   "source": [
    "# Further breakdown of the credit approval status to show exact numbers\n",
    "print(data['credit.policy'].value_counts())"
   ]
  },
  {
   "cell_type": "code",
   "execution_count": 6,
   "metadata": {},
   "outputs": [
    {
     "data": {
      "image/png": "[encoded data removed]",
      "text/plain": [
       "<Figure size 432x288 with 1 Axes>"
      ]
     },
     "metadata": {
      "needs_background": "light"
     },
     "output_type": "display_data"
    }
   ],
   "source": [
    "# In a single plot, draw the histogram of installments by “approved” and “not approved”\n",
    "series = data[['credit.policy','installment']]\n",
    "series1 = series[series['credit.policy'] == 0]\n",
    "series2 = series[series['credit.policy'] == 1]\n",
    "plt.hist(series1['installment'], bins=35, label='Unapproved', alpha=0.5)\n",
    "plt.hist(series2['installment'], bins=35, label='Approved', alpha=0.5)\n",
    "plt.legend(loc='best')\n",
    "plt.show()"
   ]
  },
  {
   "cell_type": "code",
   "execution_count": 7,
   "metadata": {
    "scrolled": true
   },
   "outputs": [
    {
     "data": {
      "image/png": "[encoded data removed]",
      "text/plain": [
       "<Figure size 432x288 with 1 Axes>"
      ]
     },
     "metadata": {
      "needs_background": "light"
     },
     "output_type": "display_data"
    }
   ],
   "source": [
    "box = data.boxplot(\"fico\", by=\"credit.policy\")"
   ]
  },
  {
   "cell_type": "markdown",
   "metadata": {},
   "source": [
    "### 1.2.1 Data Preprocessing and Splitting"
   ]
  },
  {
   "cell_type": "code",
   "execution_count": 15,
   "metadata": {},
   "outputs": [
    {
     "name": "stdout",
     "output_type": "stream",
     "text": [
      "Decision Tree Accuracy: 0.7299930410577592\n",
      "\n",
      "Cross-Validation Score for Gini:  [0.74068554 0.74515648 0.73174367 0.7358209  0.74925373 0.73283582\n",
      " 0.74626866 0.72985075 0.72238806 0.77014925]\n",
      "Mean Cross-Validation for Gini:  0.7404152857174633\n",
      "\n",
      "Cross-Validation Score for Information Gain:  [0.72876304 0.74515648 0.7466468  0.74477612 0.75970149 0.75074627\n",
      " 0.74328358 0.75373134 0.73134328 0.74179104]\n",
      "Mean Cross-Validation for Information Gain:  0.7445939453255332\n"
     ]
    }
   ],
   "source": [
    "\n",
    "# creating dummy variables that scikit-learn can recognize\n",
    "dummy = pd.get_dummies(data['purpose'])\n",
    "#dummy.head()\n",
    "\n",
    "# collect all features into a seperate list, excluding the target feature\n",
    "feature_cols = ['int.rate','installment','log.annual.inc','dti','fico','days.with.cr.line','revol.bal','revol.util','inq.last.6mths','delinq.2yrs','pub.rec']\n",
    "frames = [data[feature_cols], dummy[['all_other', 'credit_card', 'debt_consolidation', 'educational', 'home_improvement', 'major_purchase', 'small_business']]]\n",
    "\n",
    "# combine feature and dummy variables into one dataframe\n",
    "X = pd.concat(frames, axis=1, join='inner')\n",
    "\n",
    "# collect target column into a variable\n",
    "y = data['not.fully.paid']\n",
    "\n",
    "# 70% and 30% is set between training and testing data\n",
    "x_train, x_test, y_train, y_test = train_test_split(X, y, test_size=0.3, random_state=1)\n",
    "\n",
    "#1.2.2 Training a Decision Tree\n",
    "    \n",
    "# Create model for normal decision tree, gini and information gain\n",
    "# We want to create a normal decision tree for a comparision of the prediction value\n",
    "\n",
    "# Decision Tree Model\n",
    "dt = DecisionTreeClassifier()\n",
    "dt = dt.fit(x_train, y_train)\n",
    "y_pred = dt.predict(x_test)\n",
    "print(\"Decision Tree Accuracy:\",metrics.accuracy_score(y_test, y_pred))\n",
    "print()\n",
    "    \n",
    "# Gini and Ig Model (aka Entropy)\n",
    "gini_model = DecisionTreeClassifier(criterion='gini')\n",
    "ig_model = DecisionTreeClassifier(criterion='entropy')\n",
    "    \n",
    "# Fit each model with training data\n",
    "gini_model.fit(x_train,y_train)\n",
    "ig_model.fit(x_train,y_train)\n",
    "\n",
    "# 10-Fold Cross-Validation\n",
    "cross_gini = cross_val_score(estimator=gini_model, X=x_train, y=y_train, cv=10)\n",
    "cross_ig = cross_val_score(estimator=ig_model, X=x_train, y=y_train, cv=10)\n",
    "\n",
    "# Mean Calculation\n",
    "mean_gini = cross_gini.mean()\n",
    "mean_ig = cross_ig.mean()\n",
    "\n",
    "print(\"Cross-Validation Score for Gini: \", cross_gini)\n",
    "print(\"Mean Cross-Validation for Gini: \", mean_gini)\n",
    "print()\n",
    "print(\"Cross-Validation Score for Information Gain: \", cross_ig)\n",
    "print(\"Mean Cross-Validation for Information Gain: \", mean_ig)\n",
    "    "
   ]
  },
  {
   "cell_type": "markdown",
   "metadata": {},
   "source": [
    "### 1.2.3 Training a Random Forest"
   ]
  },
  {
   "cell_type": "code",
   "execution_count": 16,
   "metadata": {},
   "outputs": [
    {
     "name": "stdout",
     "output_type": "stream",
     "text": [
      "Random Forst Accuracy:  0.8239387613082811\n",
      "\n",
      "Cross-Validation Score for RF Gini:  [0.83308495 0.83308495 0.83457526 0.84029851 0.83880597 0.82835821\n",
      " 0.82686567 0.84328358 0.82985075 0.84179104]\n",
      "Mean Cross-Validation for RF Gini:  0.8349998887826147\n",
      "\n",
      "Cross-Validation Score for RF Information Gain:  [0.84202683 0.83010432 0.83308495 0.84029851 0.84179104 0.84029851\n",
      " 0.84776119 0.84179104 0.83731343 0.83731343]\n",
      "Mean Cross-Validation for RF Information Gain:  0.8391783259559134\n"
     ]
    }
   ],
   "source": [
    "# Random Forst (RF) Model\n",
    "rf = RandomForestClassifier(n_estimators=15, max_samples=1000)\n",
    "rf = rf.fit(x_train, y_train)\n",
    "y_pred = rf.predict(x_test)\n",
    "print(\"Random Forst Accuracy: \", metrics.accuracy_score(y_test, y_pred))\n",
    "print()\n",
    "\n",
    "# Gini and Information RF Models\n",
    "gini_rf_model = RandomForestClassifier(n_estimators=15, criterion='gini', max_samples=1000)\n",
    "ig_rf_model = RandomForestClassifier(n_estimators=15, criterion='entropy', max_samples=1000)\n",
    "\n",
    "# 10-Fold Cross-Validation on RF\n",
    "cross_rf_gini = cross_val_score(estimator=gini_rf_model, X=x_train, y=y_train, cv=10)\n",
    "cross_rf_ig = cross_val_score(estimator=ig_rf_model, X=x_train, y=y_train, cv=10)\n",
    "\n",
    "# Mean Calculation \n",
    "mean_rf_gini = cross_rf_gini.mean()\n",
    "mean_rf_ig = cross_rf_ig.mean()\n",
    "\n",
    "print(\"Cross-Validation Score for RF Gini: \", cross_rf_gini)\n",
    "print(\"Mean Cross-Validation for RF Gini: \", mean_rf_gini)\n",
    "print()\n",
    "print(\"Cross-Validation Score for RF Information Gain: \", cross_rf_ig)\n",
    "print(\"Mean Cross-Validation for RF Information Gain: \", mean_rf_ig)\n"
   ]
  },
  {
   "cell_type": "markdown",
   "metadata": {},
   "source": [
    "### 1.3 Performance Evaluation and Analysis"
   ]
  },
  {
   "cell_type": "code",
   "execution_count": 19,
   "metadata": {},
   "outputs": [
    {
     "name": "stdout",
     "output_type": "stream",
     "text": [
      "Decision Tree Classifier Metrics: \n",
      "Precision Score:  [0.84498736 0.246     ]\n",
      "Recall Score:  [0.84179606 0.25050916]\n",
      "F-Score:  [0.84338869 0.24823411]\n",
      "\n",
      "Random Forests Classifier Metrics: \n",
      "Precision Score:  [0.83180536 0.36842105]\n",
      "Recall Score:  [0.98992866 0.02851324]\n",
      "F-Score:  [0.9040046  0.05293006]\n",
      "\n"
     ]
    }
   ],
   "source": [
    "# Testing Decision Tree Classifier using the three evaluation metrics\n",
    "dt = DecisionTreeClassifier()\n",
    "dt = dt.fit(x_train, y_train)\n",
    "y_pred = dt.predict(x_test)\n",
    "print(\"Decision Tree Classifier Metrics: \")\n",
    "print(\"Precision Score: \", precision_score(y_test,y_pred,average=None))\n",
    "print(\"Recall Score: \", recall_score(y_test,y_pred,average=None))\n",
    "print(\"F-Score: \", f1_score(y_test,y_pred,average=None))\n",
    "print()\n",
    "\n",
    "# Testing Random Forest Classifier using the three evaluation metrics\n",
    "rf = RandomForestClassifier(n_estimators=15, max_samples=1000)\n",
    "rf = rf.fit(x_train, y_train)\n",
    "y_rf_pred = rf.predict(x_test)\n",
    "print(\"Random Forests Classifier Metrics: \")\n",
    "print(\"Precision Score: \", precision_score(y_test,y_rf_pred,average=None))\n",
    "print(\"Recall Score: \", recall_score(y_test,y_rf_pred,average=None))\n",
    "print(\"F-Score: \", f1_score(y_test,y_rf_pred,average=None))\n",
    "print()\n"
   ]
  },
  {
   "cell_type": "code",
   "execution_count": null,
   "metadata": {},
   "outputs": [],
   "source": [
    "## Summary and analysis of the results based on my observations\n",
    "\n",
    "# Based on my observations that I have made while seeing the metric results from both the Decision Tree Classifier (DTC) and Random Forest Classifier (RFC), that both have similar precision scores with DTC beating RFC by 0.013182.\n",
    "# However, RFC has a higher recall and f-score when compared to DTC. So, what does this mean, since recall is the measure of our model correctly identifying True Positives and our RFC model outputs 0.88992866 this would be our True Positive Rate.\n",
    "# In addition, RFC is achieving a higher F-Score of 0.9040046. The recall and f-score would be more important metrics when we want to detect as many heart disease patients, but in our use case we want to classify whether\n",
    "# a bank customer is able to get a loan in which I believe a higher precision score would be preferable since the bank wouldn’t want to lose customers who were denied a loan based on the model’s prediction that they would be defaulters. \n",
    "# Therefore, I this would justify that DTC would be a better model for our use case rather than RFC due to its slightly higher precision score. "
   ]
  }
 ],
 "metadata": {
  "kernelspec": {
   "display_name": "Python 3",
   "language": "python",
   "name": "python3"
  },
  "language_info": {
   "codemirror_mode": {
    "name": "ipython",
    "version": 3
   },
   "file_extension": ".py",
   "mimetype": "text/x-python",
   "name": "python",
   "nbconvert_exporter": "python",
   "pygments_lexer": "ipython3",
   "version": "3.8.5"
  }
 },
 "nbformat": 4,
 "nbformat_minor": 4
}
